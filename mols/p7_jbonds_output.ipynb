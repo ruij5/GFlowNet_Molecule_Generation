{
 "cells": [
  {
   "cell_type": "markdown",
   "metadata": {},
   "source": [
    "## Decompose"
   ]
  },
  {
   "cell_type": "code",
   "execution_count": 147,
   "metadata": {},
   "outputs": [
    {
     "data": {
      "text/plain": [
       "([((1, 3), ('5', '14')), ((9, 10), ('9', '16'))],\n",
       " {'[16*]c1ccc2ccccc2c1', '[5*]N(C)C', '[9*]n1cnc2c(=O)[nH]c([14*])nc21'})"
      ]
     },
     "execution_count": 147,
     "metadata": {},
     "output_type": "execute_result"
    }
   ],
   "source": [
    "from rdkit.Chem import BRICS\n",
    "from rdkit import Chem\n",
    "from rdkit.Chem import Draw\n",
    "demo_smi='CN(C)c1nc2c(ncn2-c2ccc3ccccc3c2)c(=O)[nH]1'\n",
    "# demo_smi='O=c1[nH]c(F)nc2c1NC(c1csc(-c3c[nH]c4ccccc34)n1)CN2'\n",
    "# demo_smi='CC(=O)n1cc(-c2ccc3ccccc3c2)c(=O)[nH]c1=O'\n",
    "# demo_smi='O=c1nc(Cl)ccn1-c1[nH]ncc1C1CC=CCC1'\n",
    "m=Chem.MolFromSmiles(demo_smi)\n",
    "smis=BRICS.BRICSDecompose(m) #silent\n",
    "res_bond = list(BRICS.FindBRICSBonds(m))\n",
    "sorted(res_bond),smis"
   ]
  },
  {
   "cell_type": "code",
   "execution_count": 148,
   "metadata": {},
   "outputs": [
    {
     "name": "stdout",
     "output_type": "stream",
     "text": [
      "*c1ccc2ccccc2c1\n",
      "*N(C)C\n",
      "*n1cnc2c(=O)[nH]c(*)nc21\n"
     ]
    }
   ],
   "source": [
    "# smis=['[5*]N1CCC([15*])CC1']\n",
    "import re\n",
    "match_dict={}\n",
    "order_dict={}\n",
    "\n",
    "for sdx,smi in enumerate(smis):\n",
    "    ori_smi=smi\n",
    "    \n",
    "    link_num_lst=re.findall(\"\\[(.*?)\\]\",smi, re.I|re.M)\n",
    "\n",
    "    new_link_num_lst=[]\n",
    "    # for link_num in link_num_lst:\n",
    "    #     if not 'H' in link_num:\n",
    "    #         new_link_num_lst.append(link_num)\n",
    "    for link_num in link_num_lst:\n",
    "        if not 'H' in link_num and not '+' in link_num and not '-' in link_num:\n",
    "            new_link_num_lst.append(link_num)\n",
    "    link_num_lst=new_link_num_lst\n",
    "\n",
    "    for link_num in link_num_lst:\n",
    "        smi=smi.replace(\"[\"+link_num+\"]\", \"*\")\n",
    "    print(smi)\n",
    "    patt = Chem.MolFromSmarts(smi)\n",
    "    match_idx=m.GetSubstructMatches(patt)\n",
    "    # print(smi)\n",
    "    # print(match_idx)\n",
    "    match_dict[ori_smi]=match_idx\n",
    "    \n",
    "    order_dict[ori_smi]=sdx"
   ]
  },
  {
   "cell_type": "code",
   "execution_count": 149,
   "metadata": {},
   "outputs": [
    {
     "data": {
      "text/plain": [
       "{'[16*]c1ccc2ccccc2c1': ((9, 10, 11, 12, 13, 14, 15, 16, 17, 18, 19),),\n",
       " '[5*]N(C)C': ((3, 1, 0, 2),),\n",
       " '[9*]n1cnc2c(=O)[nH]c([14*])nc21': ((10,\n",
       "   9,\n",
       "   8,\n",
       "   7,\n",
       "   6,\n",
       "   20,\n",
       "   21,\n",
       "   22,\n",
       "   3,\n",
       "   1,\n",
       "   4,\n",
       "   5),)}"
      ]
     },
     "execution_count": 149,
     "metadata": {},
     "output_type": "execute_result"
    }
   ],
   "source": [
    "match_dict"
   ]
  },
  {
   "cell_type": "code",
   "execution_count": 150,
   "metadata": {},
   "outputs": [
    {
     "data": {
      "text/plain": [
       "[((1, 3), ('5', '14')), ((9, 10), ('9', '16'))]"
      ]
     },
     "execution_count": 150,
     "metadata": {},
     "output_type": "execute_result"
    }
   ],
   "source": [
    "sorted(res_bond)"
   ]
  },
  {
   "cell_type": "code",
   "execution_count": 151,
   "metadata": {},
   "outputs": [],
   "source": [
    "import re\n",
    "\n",
    "def identify_free_bond_pos(smi,matched_atom_idxs,link_value,bond_lst):\n",
    "    if len(matched_atom_idxs)>1:\n",
    "        for atom_idxs in matched_atom_idxs:\n",
    "            if sorted(list(set(atom_idxs).intersection(set(bond_lst))))==sorted(list(bond_lst)):\n",
    "                unique_atom_idx=atom_idxs\n",
    "    elif len(matched_atom_idxs)==1:\n",
    "        unique_atom_idx=matched_atom_idxs[0]\n",
    "    else:\n",
    "        print(\"no match:{len(matched_atom_idxs)}\")\n",
    "        return None\n",
    "\n",
    "    print(f\"INPUT\\nfrag smi:{smi};unique_atom_idx:{unique_atom_idx};link_value:{link_value};bond_lst:{bond_lst}\")\n",
    "    smi_char_lst=re.split('\\[|\\]|\\(|\\)',smi)\n",
    "    new_smi_char_lst=[]\n",
    "\n",
    "    num_lst=[str(i) for i in list(range(9))]\n",
    "    for smi_char in smi_char_lst:\n",
    "\n",
    "        if not smi_char=='':\n",
    "            if '*' in smi_char:\n",
    "                new_smi_char_lst.append(smi_char)\n",
    "            else:\n",
    "                for a in smi_char:\n",
    "                    if not a in num_lst:\n",
    "                        new_smi_char_lst.append(a)\n",
    "\n",
    "    # print(f\"new_smi_char_lst:\")\n",
    "    # print(new_smi_char_lst)\n",
    "    # print(unique_atom_idx)\n",
    "\n",
    "    mol=Chem.MolFromSmiles(smi)\n",
    "    atoms_num=len(mol.GetAtoms())\n",
    "    bond_pos=-1\n",
    "\n",
    "    print(f\"atom num==len(new_smi_char_lst):{atoms_num==len(new_smi_char_lst)}\")\n",
    "    n=0\n",
    "    for cdx,atom in enumerate(mol.GetAtoms()):\n",
    "        if (atom.GetSymbol() == \"*\"):\n",
    "            if new_smi_char_lst[cdx]==link_value+\"*\":\n",
    "                bond=unique_atom_idx[cdx]\n",
    "                # print(bond)\n",
    "                # print(bond_lst)\n",
    "                if bond in bond_lst:\n",
    "                    bond_pos=atom.GetIdx()\n",
    "                    if not bond_pos==0:\n",
    "                        bond_pos=bond_pos-n-1\n",
    "                    print(f\"matched bond_pos:{bond_pos}\")\n",
    "            n+=1\n",
    "    if bond_pos==-1:\n",
    "        print(f\"\\nplease check the order of atom index...\")\n",
    "        print(f\"atom list:{new_smi_char_lst}; link index list:{unique_atom_idx}; link_bond:{bond_lst}\\n\")\n",
    "    return bond_pos"
   ]
  },
  {
   "cell_type": "code",
   "execution_count": 152,
   "metadata": {},
   "outputs": [
    {
     "name": "stdout",
     "output_type": "stream",
     "text": [
      "---------------------------------------------------\n",
      "link_idx:5\n",
      "INPUT\n",
      "frag smi:[5*]N(C)C;unique_atom_idx:(3, 1, 0, 2);link_value:5;bond_lst:(1, 3)\n",
      "atom num==len(new_smi_char_lst):True\n",
      "matched bond_pos:0\n",
      "---------------------------------------------------\n",
      "link_idx:14\n",
      "INPUT\n",
      "frag smi:[9*]n1cnc2c(=O)[nH]c([14*])nc21;unique_atom_idx:(10, 9, 8, 7, 6, 20, 21, 22, 3, 1, 4, 5);link_value:14;bond_lst:(1, 3)\n",
      "atom num==len(new_smi_char_lst):False\n",
      "\n",
      "please check the order of atom index...\n",
      "atom list:['9*', 'n', 'c', 'n', 'c', 'c', '=', 'O', 'n', 'H', 'c', '14*', 'n', 'c']; link index list:(10, 9, 8, 7, 6, 20, 21, 22, 3, 1, 4, 5); link_bond:(1, 3)\n",
      "\n",
      "***********jbonds:****************\n",
      "((1, 3), ('5', '14'))\n",
      "[1, 2, 0, -1]\n",
      "---------------------------------------------------\n",
      "link_idx:9\n",
      "INPUT\n",
      "frag smi:[9*]n1cnc2c(=O)[nH]c([14*])nc21;unique_atom_idx:(10, 9, 8, 7, 6, 20, 21, 22, 3, 1, 4, 5);link_value:9;bond_lst:(9, 10)\n",
      "atom num==len(new_smi_char_lst):False\n",
      "matched bond_pos:0\n",
      "---------------------------------------------------\n",
      "link_idx:16\n",
      "INPUT\n",
      "frag smi:[16*]c1ccc2ccccc2c1;unique_atom_idx:(9, 10, 11, 12, 13, 14, 15, 16, 17, 18, 19);link_value:16;bond_lst:(9, 10)\n",
      "atom num==len(new_smi_char_lst):True\n",
      "matched bond_pos:0\n",
      "***********jbonds:****************\n",
      "((9, 10), ('9', '16'))\n",
      "[2, 0, 0, 0]\n"
     ]
    }
   ],
   "source": [
    "keys=match_dict.keys()\n",
    "smi_jbond=False\n",
    "jbond_lst=[]\n",
    "for tup in sorted(res_bond):\n",
    "    bond_lst=tup[0]      # (2,1)\n",
    "    idx_lst=tup[1]       # ('4','11')\n",
    "\n",
    "    jbond=['','',-2,-2]    # [block_smi1, block_smi2,break_atom1,break_atom2]\n",
    "    idx_dict={}          # key='4','11'   value=[frag_smis]\n",
    "\n",
    "    for ldx,link_idx in enumerate(idx_lst):\n",
    "        idx_dict[link_idx]=[]\n",
    "        print(\"---------------------------------------------------\")\n",
    "        print(f\"link_idx:{link_idx}\")\n",
    "\n",
    "        for key in keys:\n",
    "            if \"[\"+link_idx+\"*]\" in key:\n",
    "                idx_dict[link_idx]+=[key]\n",
    "\n",
    "        if len(idx_dict[link_idx])==1:\n",
    "            frag_smi=idx_dict[link_idx][0]\n",
    "            if smi_jbond:\n",
    "\n",
    "                jbond[ldx]=frag_smi\n",
    "            else:\n",
    "                jbond[ldx]=order_dict[idx_dict[link_idx][0]]\n",
    "\n",
    "            bond_pos=identify_free_bond_pos(frag_smi,match_dict[frag_smi],link_idx,bond_lst)\n",
    "            jbond[ldx+2]=bond_pos #bond_lst[ldx]\n",
    "\n",
    "        else:\n",
    "            print(f\"idx_dict[{link_idx}]:\")\n",
    "            print(idx_dict[link_idx])\n",
    "            for match_smi in idx_dict[link_idx]:\n",
    "                atom_idxs=match_dict[match_smi]\n",
    "                #print(atom_idxs)\n",
    "                if len(atom_idxs)==1:\n",
    "                    if sorted(list(set(atom_idxs[0]).intersection(set(bond_lst))))==sorted(list(bond_lst)):\n",
    "                        #print(\"True\")\n",
    "                        if smi_jbond:\n",
    "                            jbond[ldx]=match_smi\n",
    "                        else:\n",
    "                            jbond[ldx]=order_dict[match_smi]\n",
    "                        bond_pos=identify_free_bond_pos(match_smi,match_dict[match_smi],link_idx,bond_lst)\n",
    "                        jbond[ldx+2]=bond_pos #bond_lst[ldx]\n",
    "                        break\n",
    "                else:\n",
    "                    if jbond[ldx+2]==-2:\n",
    "                        print(\"run multiple idx fragment...\")\n",
    "                        for possible_atom_idx in atom_idxs:\n",
    "                            #print(possible_atom_idx)\n",
    "                            if sorted(list(set(possible_atom_idx).intersection(set(bond_lst))))==sorted(list(bond_lst)):\n",
    "                                #print(\"True\")\n",
    "                                if smi_jbond:\n",
    "                                    jbond[ldx]=match_smi\n",
    "                                else:\n",
    "                                    jbond[ldx]=order_dict[match_smi]\n",
    "                                bond_pos=identify_free_bond_pos(match_smi,[possible_atom_idx],link_idx,bond_lst)\n",
    "                                jbond[ldx+2]=bond_pos #bond_lst[ldx]\n",
    "                                break\n",
    "\n",
    "    print(\"***********jbonds:****************\")\n",
    "    print(tup)\n",
    "    print(jbond)\n",
    "    jbond_lst.append(jbond)"
   ]
  },
  {
   "cell_type": "code",
   "execution_count": 153,
   "metadata": {},
   "outputs": [
    {
     "data": {
      "text/plain": [
       "{'[16*]c1ccc2ccccc2c1': 0,\n",
       " '[5*]N(C)C': 1,\n",
       " '[9*]n1cnc2c(=O)[nH]c([14*])nc21': 2}"
      ]
     },
     "execution_count": 153,
     "metadata": {},
     "output_type": "execute_result"
    }
   ],
   "source": [
    "order_dict"
   ]
  },
  {
   "cell_type": "code",
   "execution_count": 154,
   "metadata": {},
   "outputs": [
    {
     "data": {
      "text/plain": [
       "([[1, 2, 0, -1], [2, 0, 0, 0]],\n",
       " [((1, 3), ('5', '14')), ((9, 10), ('9', '16'))])"
      ]
     },
     "execution_count": 154,
     "metadata": {},
     "output_type": "execute_result"
    }
   ],
   "source": [
    "jbond_lst,sorted(res_bond)"
   ]
  }
 ],
 "metadata": {
  "kernelspec": {
   "display_name": "Python 3.11.4 ('base')",
   "language": "python",
   "name": "python3"
  },
  "language_info": {
   "codemirror_mode": {
    "name": "ipython",
    "version": 3
   },
   "file_extension": ".py",
   "mimetype": "text/x-python",
   "name": "python",
   "nbconvert_exporter": "python",
   "pygments_lexer": "ipython3",
   "version": "3.11.4"
  },
  "orig_nbformat": 4,
  "vscode": {
   "interpreter": {
    "hash": "2f0ebc65cc21987363a191323317a5c825d0d321f5d624be1b1807f446822f76"
   }
  }
 },
 "nbformat": 4,
 "nbformat_minor": 2
}
